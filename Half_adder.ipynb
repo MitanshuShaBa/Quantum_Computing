{
 "cells": [
  {
   "cell_type": "code",
   "execution_count": 7,
   "metadata": {},
   "outputs": [],
   "source": [
    "import qiskit as q\n",
    "%matplotlib inline\n",
    "from qiskit.visualization import plot_histogram\n",
    "from qiskit import Aer\n",
    "from qiskit.tools.monitor import job_monitor"
   ]
  },
  {
   "cell_type": "code",
   "execution_count": 10,
   "metadata": {},
   "outputs": [],
   "source": [
    "sim_backend = Aer.get_backend('qasm_simulator')"
   ]
  },
  {
   "cell_type": "code",
   "execution_count": 38,
   "metadata": {},
   "outputs": [
    {
     "data": {
      "text/html": [
       "<pre style=\"word-wrap: normal;white-space: pre;background: #fff0;line-height: 1.1;font-family: &quot;Courier New&quot;,Courier,monospace\">        ┌───┐                     \n",
       "q_0: |0>┤ X ├──■─────────■────────\n",
       "        ├───┤  │         │        \n",
       "q_1: |0>┤ X ├──┼────■────■────────\n",
       "        └───┘┌─┴─┐┌─┴─┐  │  ┌─┐   \n",
       "q_2: |0>─────┤ X ├┤ X ├──┼──┤M├───\n",
       "             └───┘└───┘┌─┴─┐└╥┘┌─┐\n",
       "q_3: |0>───────────────┤ X ├─╫─┤M├\n",
       "                       └───┘ ║ └╥┘\n",
       " c_0: 0 ═════════════════════╩══╬═\n",
       "                                ║ \n",
       " c_1: 0 ════════════════════════╩═\n",
       "                                  </pre>"
      ],
      "text/plain": [
       "<qiskit.visualization.text.TextDrawing at 0x1bc46156400>"
      ]
     },
     "execution_count": 38,
     "metadata": {},
     "output_type": "execute_result"
    }
   ],
   "source": [
    "circuit = q.QuantumCircuit(4, 2)\n",
    "\n",
    "# Input\n",
    "\n",
    "# Comment for 0 for first bit\n",
    "circuit.x(0)\n",
    "# Comment for 0 for second bit\n",
    "circuit.x(1)\n",
    "\n",
    "# Half Adder algorithm\n",
    "\n",
    "# Sum of both qubits\n",
    "circuit.cx(0,2)\n",
    "circuit.cx(1,2)\n",
    "# Carry of both qubits\n",
    "circuit.ccx(0,1,3)\n",
    "\n",
    "# Output\n",
    "\n",
    "circuit.measure([2,3], [0,1])\n",
    "circuit.draw()"
   ]
  },
  {
   "cell_type": "code",
   "execution_count": 39,
   "metadata": {},
   "outputs": [
    {
     "name": "stdout",
     "output_type": "stream",
     "text": [
      "Job Status: job has successfully run\n"
     ]
    },
    {
     "data": {
      "image/png": "[encoded data removed]",
      "text/plain": [
       "<Figure size 504x360 with 1 Axes>"
      ]
     },
     "execution_count": 39,
     "metadata": {},
     "output_type": "execute_result"
    }
   ],
   "source": [
    "job = q.execute(circuit, backend=sim_backend, shots=500)\n",
    "job_monitor(job)\n",
    "\n",
    "result = job.result()\n",
    "counts = result.get_counts(circuit)\n",
    "\n",
    "plot_histogram([counts])"
   ]
  },
  {
   "cell_type": "code",
   "execution_count": null,
   "metadata": {},
   "outputs": [],
   "source": []
  }
 ],
 "metadata": {
  "kernelspec": {
   "display_name": "Python 3",
   "language": "python",
   "name": "python3"
  },
  "language_info": {
   "codemirror_mode": {
    "name": "ipython",
    "version": 3
   },
   "file_extension": ".py",
   "mimetype": "text/x-python",
   "name": "python",
   "nbconvert_exporter": "python",
   "pygments_lexer": "ipython3",
   "version": "3.6.9"
  }
 },
 "nbformat": 4,
 "nbformat_minor": 4
}
